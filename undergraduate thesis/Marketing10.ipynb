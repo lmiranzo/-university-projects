{
 "cells": [
  {
   "cell_type": "markdown",
   "id": "ba6de0e8",
   "metadata": {},
   "source": [
    "# TFG aplicacion caso práctico."
   ]
  },
  {
   "cell_type": "markdown",
   "id": "fa32cca0",
   "metadata": {},
   "source": [
    "# Campaña de marketing de un banco portugués"
   ]
  },
  {
   "cell_type": "markdown",
   "id": "608f6584-d586-457f-ac35-ec4309ba910f",
   "metadata": {},
   "source": [
    "## Librerias "
   ]
  },
  {
   "cell_type": "code",
   "execution_count": 3,
   "id": "c78d56f0",
   "metadata": {},
   "outputs": [],
   "source": [
    "import pandas as pd\n",
    "import numpy as np\n",
    "from sklearn.preprocessing import LabelEncoder\n",
    "from sklearn.metrics.pairwise import euclidean_distances\n",
    "import seaborn as sns\n",
    "import matplotlib.pyplot as plt\n",
    "from sklearn.neighbors import NearestNeighbors\n",
    "from scipy.linalg import eigh\n",
    "from sklearn.cluster import KMeans\n",
    "from sklearn.metrics import pairwise_distances\n",
    "from sklearn.metrics.pairwise import cosine_distances, manhattan_distances\n"
   ]
  },
  {
   "cell_type": "code",
   "execution_count": 4,
   "id": "46a2d412",
   "metadata": {},
   "outputs": [
    {
     "data": {
      "text/html": [
       "<div>\n",
       "<style scoped>\n",
       "    .dataframe tbody tr th:only-of-type {\n",
       "        vertical-align: middle;\n",
       "    }\n",
       "\n",
       "    .dataframe tbody tr th {\n",
       "        vertical-align: top;\n",
       "    }\n",
       "\n",
       "    .dataframe thead th {\n",
       "        text-align: right;\n",
       "    }\n",
       "</style>\n",
       "<table border=\"1\" class=\"dataframe\">\n",
       "  <thead>\n",
       "    <tr style=\"text-align: right;\">\n",
       "      <th></th>\n",
       "      <th>age</th>\n",
       "      <th>job</th>\n",
       "      <th>marital</th>\n",
       "      <th>education</th>\n",
       "      <th>default</th>\n",
       "      <th>housing</th>\n",
       "      <th>loan</th>\n",
       "      <th>contact</th>\n",
       "      <th>month</th>\n",
       "      <th>day_of_week</th>\n",
       "      <th>...</th>\n",
       "      <th>campaign</th>\n",
       "      <th>pdays</th>\n",
       "      <th>previous</th>\n",
       "      <th>poutcome</th>\n",
       "      <th>emp.var.rate</th>\n",
       "      <th>cons.price.idx</th>\n",
       "      <th>cons.conf.idx</th>\n",
       "      <th>euribor3m</th>\n",
       "      <th>nr.employed</th>\n",
       "      <th>y</th>\n",
       "    </tr>\n",
       "  </thead>\n",
       "  <tbody>\n",
       "    <tr>\n",
       "      <th>0</th>\n",
       "      <td>30</td>\n",
       "      <td>blue-collar</td>\n",
       "      <td>married</td>\n",
       "      <td>basic.9y</td>\n",
       "      <td>no</td>\n",
       "      <td>yes</td>\n",
       "      <td>no</td>\n",
       "      <td>cellular</td>\n",
       "      <td>may</td>\n",
       "      <td>fri</td>\n",
       "      <td>...</td>\n",
       "      <td>2</td>\n",
       "      <td>999</td>\n",
       "      <td>0</td>\n",
       "      <td>nonexistent</td>\n",
       "      <td>-1.8</td>\n",
       "      <td>92.893</td>\n",
       "      <td>-46.2</td>\n",
       "      <td>1.313</td>\n",
       "      <td>5099.1</td>\n",
       "      <td>no</td>\n",
       "    </tr>\n",
       "    <tr>\n",
       "      <th>1</th>\n",
       "      <td>39</td>\n",
       "      <td>services</td>\n",
       "      <td>single</td>\n",
       "      <td>high.school</td>\n",
       "      <td>no</td>\n",
       "      <td>no</td>\n",
       "      <td>no</td>\n",
       "      <td>telephone</td>\n",
       "      <td>may</td>\n",
       "      <td>fri</td>\n",
       "      <td>...</td>\n",
       "      <td>4</td>\n",
       "      <td>999</td>\n",
       "      <td>0</td>\n",
       "      <td>nonexistent</td>\n",
       "      <td>1.1</td>\n",
       "      <td>93.994</td>\n",
       "      <td>-36.4</td>\n",
       "      <td>4.855</td>\n",
       "      <td>5191.0</td>\n",
       "      <td>no</td>\n",
       "    </tr>\n",
       "    <tr>\n",
       "      <th>2</th>\n",
       "      <td>25</td>\n",
       "      <td>services</td>\n",
       "      <td>married</td>\n",
       "      <td>high.school</td>\n",
       "      <td>no</td>\n",
       "      <td>yes</td>\n",
       "      <td>no</td>\n",
       "      <td>telephone</td>\n",
       "      <td>jun</td>\n",
       "      <td>wed</td>\n",
       "      <td>...</td>\n",
       "      <td>1</td>\n",
       "      <td>999</td>\n",
       "      <td>0</td>\n",
       "      <td>nonexistent</td>\n",
       "      <td>1.4</td>\n",
       "      <td>94.465</td>\n",
       "      <td>-41.8</td>\n",
       "      <td>4.962</td>\n",
       "      <td>5228.1</td>\n",
       "      <td>no</td>\n",
       "    </tr>\n",
       "    <tr>\n",
       "      <th>3</th>\n",
       "      <td>38</td>\n",
       "      <td>services</td>\n",
       "      <td>married</td>\n",
       "      <td>basic.9y</td>\n",
       "      <td>no</td>\n",
       "      <td>unknown</td>\n",
       "      <td>unknown</td>\n",
       "      <td>telephone</td>\n",
       "      <td>jun</td>\n",
       "      <td>fri</td>\n",
       "      <td>...</td>\n",
       "      <td>3</td>\n",
       "      <td>999</td>\n",
       "      <td>0</td>\n",
       "      <td>nonexistent</td>\n",
       "      <td>1.4</td>\n",
       "      <td>94.465</td>\n",
       "      <td>-41.8</td>\n",
       "      <td>4.959</td>\n",
       "      <td>5228.1</td>\n",
       "      <td>no</td>\n",
       "    </tr>\n",
       "    <tr>\n",
       "      <th>4</th>\n",
       "      <td>47</td>\n",
       "      <td>admin.</td>\n",
       "      <td>married</td>\n",
       "      <td>university.degree</td>\n",
       "      <td>no</td>\n",
       "      <td>yes</td>\n",
       "      <td>no</td>\n",
       "      <td>cellular</td>\n",
       "      <td>nov</td>\n",
       "      <td>mon</td>\n",
       "      <td>...</td>\n",
       "      <td>1</td>\n",
       "      <td>999</td>\n",
       "      <td>0</td>\n",
       "      <td>nonexistent</td>\n",
       "      <td>-0.1</td>\n",
       "      <td>93.200</td>\n",
       "      <td>-42.0</td>\n",
       "      <td>4.191</td>\n",
       "      <td>5195.8</td>\n",
       "      <td>no</td>\n",
       "    </tr>\n",
       "  </tbody>\n",
       "</table>\n",
       "<p>5 rows × 21 columns</p>\n",
       "</div>"
      ],
      "text/plain": [
       "   age          job  marital          education default  housing     loan  \\\n",
       "0   30  blue-collar  married           basic.9y      no      yes       no   \n",
       "1   39     services   single        high.school      no       no       no   \n",
       "2   25     services  married        high.school      no      yes       no   \n",
       "3   38     services  married           basic.9y      no  unknown  unknown   \n",
       "4   47       admin.  married  university.degree      no      yes       no   \n",
       "\n",
       "     contact month day_of_week  ...  campaign  pdays  previous     poutcome  \\\n",
       "0   cellular   may         fri  ...         2    999         0  nonexistent   \n",
       "1  telephone   may         fri  ...         4    999         0  nonexistent   \n",
       "2  telephone   jun         wed  ...         1    999         0  nonexistent   \n",
       "3  telephone   jun         fri  ...         3    999         0  nonexistent   \n",
       "4   cellular   nov         mon  ...         1    999         0  nonexistent   \n",
       "\n",
       "  emp.var.rate  cons.price.idx  cons.conf.idx  euribor3m  nr.employed   y  \n",
       "0         -1.8          92.893          -46.2      1.313       5099.1  no  \n",
       "1          1.1          93.994          -36.4      4.855       5191.0  no  \n",
       "2          1.4          94.465          -41.8      4.962       5228.1  no  \n",
       "3          1.4          94.465          -41.8      4.959       5228.1  no  \n",
       "4         -0.1          93.200          -42.0      4.191       5195.8  no  \n",
       "\n",
       "[5 rows x 21 columns]"
      ]
     },
     "execution_count": 4,
     "metadata": {},
     "output_type": "execute_result"
    }
   ],
   "source": [
    "# Abrimos el conjunto de datos que tiene el 10% del total (aleatorio)\n",
    "df= pd.read_csv('bank-additional/bank-additional.csv', sep = ';')\n",
    "df.head()"
   ]
  },
  {
   "cell_type": "code",
   "execution_count": 5,
   "id": "813c50c8",
   "metadata": {},
   "outputs": [
    {
     "name": "stdout",
     "output_type": "stream",
     "text": [
      "<class 'pandas.core.frame.DataFrame'>\n",
      "RangeIndex: 4119 entries, 0 to 4118\n",
      "Data columns (total 21 columns):\n",
      " #   Column          Non-Null Count  Dtype  \n",
      "---  ------          --------------  -----  \n",
      " 0   age             4119 non-null   int64  \n",
      " 1   job             4119 non-null   object \n",
      " 2   marital         4119 non-null   object \n",
      " 3   education       4119 non-null   object \n",
      " 4   default         4119 non-null   object \n",
      " 5   housing         4119 non-null   object \n",
      " 6   loan            4119 non-null   object \n",
      " 7   contact         4119 non-null   object \n",
      " 8   month           4119 non-null   object \n",
      " 9   day_of_week     4119 non-null   object \n",
      " 10  duration        4119 non-null   int64  \n",
      " 11  campaign        4119 non-null   int64  \n",
      " 12  pdays           4119 non-null   int64  \n",
      " 13  previous        4119 non-null   int64  \n",
      " 14  poutcome        4119 non-null   object \n",
      " 15  emp.var.rate    4119 non-null   float64\n",
      " 16  cons.price.idx  4119 non-null   float64\n",
      " 17  cons.conf.idx   4119 non-null   float64\n",
      " 18  euribor3m       4119 non-null   float64\n",
      " 19  nr.employed     4119 non-null   float64\n",
      " 20  y               4119 non-null   object \n",
      "dtypes: float64(5), int64(5), object(11)\n",
      "memory usage: 675.9+ KB\n"
     ]
    }
   ],
   "source": [
    "df.info()"
   ]
  },
  {
   "cell_type": "code",
   "execution_count": 6,
   "id": "59be0941-7568-4ec5-b0fa-c1f2e6ac2814",
   "metadata": {},
   "outputs": [
    {
     "name": "stdout",
     "output_type": "stream",
     "text": [
      "Cantidad de duplicados: 0\n"
     ]
    }
   ],
   "source": [
    "# Contar los duplicados en el DataFrame\n",
    "duplicates_count = df.duplicated().sum()\n",
    "\n",
    "# Imprimir el resultado\n",
    "print(\"Cantidad de duplicados:\", duplicates_count)\n"
   ]
  },
  {
   "cell_type": "markdown",
   "id": "29e56e7c-b605-42d6-9fc5-da83fc3fc414",
   "metadata": {},
   "source": [
    "## Analisis de valores perdidos (missings)"
   ]
  },
  {
   "cell_type": "markdown",
   "id": "0c353388-1f3f-4819-83eb-0bebca191ed2",
   "metadata": {},
   "source": [
    "A primera vista, vemos que no hay valores Na en nuestro dataset. Sin embargo nos damos cuenta que existe la categoria 'unknown' para algunas variables. Sustituimos 'Unknown' por Na y hacemos el análisis. "
   ]
  },
  {
   "cell_type": "code",
   "execution_count": 7,
   "id": "456e6a1c",
   "metadata": {},
   "outputs": [
    {
     "data": {
      "text/plain": [
       "age               0\n",
       "job               0\n",
       "marital           0\n",
       "education         0\n",
       "default           0\n",
       "housing           0\n",
       "loan              0\n",
       "contact           0\n",
       "month             0\n",
       "day_of_week       0\n",
       "duration          0\n",
       "campaign          0\n",
       "pdays             0\n",
       "previous          0\n",
       "poutcome          0\n",
       "emp.var.rate      0\n",
       "cons.price.idx    0\n",
       "cons.conf.idx     0\n",
       "euribor3m         0\n",
       "nr.employed       0\n",
       "y                 0\n",
       "dtype: int64"
      ]
     },
     "execution_count": 7,
     "metadata": {},
     "output_type": "execute_result"
    }
   ],
   "source": [
    "df.isnull().sum()"
   ]
  },
  {
   "cell_type": "code",
   "execution_count": 8,
   "id": "c62c3aeb-98eb-42a5-9b06-d71669d27b4c",
   "metadata": {},
   "outputs": [],
   "source": [
    "df = df.replace({\"unknown\": np.nan})"
   ]
  },
  {
   "cell_type": "code",
   "execution_count": 9,
   "id": "55d5bb11-37c5-4fbc-a815-fce21f5e9ccc",
   "metadata": {},
   "outputs": [
    {
     "data": {
      "text/plain": [
       "age                 0\n",
       "job                39\n",
       "marital            11\n",
       "education         167\n",
       "default           803\n",
       "housing           105\n",
       "loan              105\n",
       "contact             0\n",
       "month               0\n",
       "day_of_week         0\n",
       "duration            0\n",
       "campaign            0\n",
       "pdays               0\n",
       "previous            0\n",
       "poutcome            0\n",
       "emp.var.rate        0\n",
       "cons.price.idx      0\n",
       "cons.conf.idx       0\n",
       "euribor3m           0\n",
       "nr.employed         0\n",
       "y                   0\n",
       "dtype: int64"
      ]
     },
     "execution_count": 9,
     "metadata": {},
     "output_type": "execute_result"
    }
   ],
   "source": [
    "num_missings = df.isnull().sum()\n",
    "num_missings"
   ]
  },
  {
   "cell_type": "code",
   "execution_count": 10,
   "id": "054a63f2-efa2-4e7f-a9b0-261b83c6f675",
   "metadata": {},
   "outputs": [
    {
     "data": {
      "text/plain": [
       "1230"
      ]
     },
     "execution_count": 10,
     "metadata": {},
     "output_type": "execute_result"
    }
   ],
   "source": [
    "num_missings.sum()"
   ]
  },
  {
   "cell_type": "code",
   "execution_count": 11,
   "id": "f8b440c8-cfac-4e49-bbf4-a77921cd66e3",
   "metadata": {},
   "outputs": [
    {
     "data": {
      "text/plain": [
       "(4119, 21)"
      ]
     },
     "execution_count": 11,
     "metadata": {},
     "output_type": "execute_result"
    }
   ],
   "source": [
    "df.shape"
   ]
  },
  {
   "cell_type": "code",
   "execution_count": 12,
   "id": "208e905a-b11f-43cb-80d9-f18a53d2a644",
   "metadata": {},
   "outputs": [
    {
     "data": {
      "text/plain": [
       "(3090, 21)"
      ]
     },
     "execution_count": 12,
     "metadata": {},
     "output_type": "execute_result"
    }
   ],
   "source": [
    "df = df.dropna()\n",
    "df.shape"
   ]
  },
  {
   "cell_type": "markdown",
   "id": "76382790-f5a1-46c2-ac3c-ef22149968b0",
   "metadata": {},
   "source": [
    "# Analisis descriptivo"
   ]
  },
  {
   "cell_type": "code",
   "execution_count": 13,
   "id": "efb1b9c8-c2a0-4142-9849-ac5f00fcd0d6",
   "metadata": {},
   "outputs": [
    {
     "data": {
      "text/html": [
       "<div>\n",
       "<style scoped>\n",
       "    .dataframe tbody tr th:only-of-type {\n",
       "        vertical-align: middle;\n",
       "    }\n",
       "\n",
       "    .dataframe tbody tr th {\n",
       "        vertical-align: top;\n",
       "    }\n",
       "\n",
       "    .dataframe thead th {\n",
       "        text-align: right;\n",
       "    }\n",
       "</style>\n",
       "<table border=\"1\" class=\"dataframe\">\n",
       "  <thead>\n",
       "    <tr style=\"text-align: right;\">\n",
       "      <th></th>\n",
       "      <th>age</th>\n",
       "      <th>duration</th>\n",
       "      <th>campaign</th>\n",
       "      <th>pdays</th>\n",
       "      <th>previous</th>\n",
       "      <th>emp.var.rate</th>\n",
       "      <th>cons.price.idx</th>\n",
       "      <th>cons.conf.idx</th>\n",
       "      <th>euribor3m</th>\n",
       "      <th>nr.employed</th>\n",
       "    </tr>\n",
       "  </thead>\n",
       "  <tbody>\n",
       "    <tr>\n",
       "      <th>count</th>\n",
       "      <td>3090.000000</td>\n",
       "      <td>3090.000000</td>\n",
       "      <td>3090.000000</td>\n",
       "      <td>3090.000000</td>\n",
       "      <td>3090.000000</td>\n",
       "      <td>3090.000000</td>\n",
       "      <td>3090.000000</td>\n",
       "      <td>3090.000000</td>\n",
       "      <td>3090.000000</td>\n",
       "      <td>3090.000000</td>\n",
       "    </tr>\n",
       "    <tr>\n",
       "      <th>mean</th>\n",
       "      <td>39.184142</td>\n",
       "      <td>259.244984</td>\n",
       "      <td>2.509385</td>\n",
       "      <td>953.350809</td>\n",
       "      <td>0.208091</td>\n",
       "      <td>-0.046796</td>\n",
       "      <td>93.532223</td>\n",
       "      <td>-40.618608</td>\n",
       "      <td>3.481706</td>\n",
       "      <td>5161.138706</td>\n",
       "    </tr>\n",
       "    <tr>\n",
       "      <th>std</th>\n",
       "      <td>10.184002</td>\n",
       "      <td>263.960200</td>\n",
       "      <td>2.598168</td>\n",
       "      <td>208.030041</td>\n",
       "      <td>0.560141</td>\n",
       "      <td>1.596276</td>\n",
       "      <td>0.585886</td>\n",
       "      <td>4.746448</td>\n",
       "      <td>1.770016</td>\n",
       "      <td>76.482157</td>\n",
       "    </tr>\n",
       "    <tr>\n",
       "      <th>min</th>\n",
       "      <td>20.000000</td>\n",
       "      <td>0.000000</td>\n",
       "      <td>1.000000</td>\n",
       "      <td>0.000000</td>\n",
       "      <td>0.000000</td>\n",
       "      <td>-3.400000</td>\n",
       "      <td>92.201000</td>\n",
       "      <td>-50.800000</td>\n",
       "      <td>0.635000</td>\n",
       "      <td>4963.600000</td>\n",
       "    </tr>\n",
       "    <tr>\n",
       "      <th>25%</th>\n",
       "      <td>31.000000</td>\n",
       "      <td>104.000000</td>\n",
       "      <td>1.000000</td>\n",
       "      <td>999.000000</td>\n",
       "      <td>0.000000</td>\n",
       "      <td>-1.800000</td>\n",
       "      <td>93.075000</td>\n",
       "      <td>-42.700000</td>\n",
       "      <td>1.313000</td>\n",
       "      <td>5099.100000</td>\n",
       "    </tr>\n",
       "    <tr>\n",
       "      <th>50%</th>\n",
       "      <td>37.000000</td>\n",
       "      <td>181.000000</td>\n",
       "      <td>2.000000</td>\n",
       "      <td>999.000000</td>\n",
       "      <td>0.000000</td>\n",
       "      <td>1.100000</td>\n",
       "      <td>93.444000</td>\n",
       "      <td>-41.800000</td>\n",
       "      <td>4.856000</td>\n",
       "      <td>5191.000000</td>\n",
       "    </tr>\n",
       "    <tr>\n",
       "      <th>75%</th>\n",
       "      <td>46.000000</td>\n",
       "      <td>315.000000</td>\n",
       "      <td>3.000000</td>\n",
       "      <td>999.000000</td>\n",
       "      <td>0.000000</td>\n",
       "      <td>1.400000</td>\n",
       "      <td>93.994000</td>\n",
       "      <td>-36.400000</td>\n",
       "      <td>4.961000</td>\n",
       "      <td>5228.100000</td>\n",
       "    </tr>\n",
       "    <tr>\n",
       "      <th>max</th>\n",
       "      <td>88.000000</td>\n",
       "      <td>3643.000000</td>\n",
       "      <td>35.000000</td>\n",
       "      <td>999.000000</td>\n",
       "      <td>6.000000</td>\n",
       "      <td>1.400000</td>\n",
       "      <td>94.767000</td>\n",
       "      <td>-26.900000</td>\n",
       "      <td>5.045000</td>\n",
       "      <td>5228.100000</td>\n",
       "    </tr>\n",
       "  </tbody>\n",
       "</table>\n",
       "</div>"
      ],
      "text/plain": [
       "               age     duration     campaign        pdays     previous  \\\n",
       "count  3090.000000  3090.000000  3090.000000  3090.000000  3090.000000   \n",
       "mean     39.184142   259.244984     2.509385   953.350809     0.208091   \n",
       "std      10.184002   263.960200     2.598168   208.030041     0.560141   \n",
       "min      20.000000     0.000000     1.000000     0.000000     0.000000   \n",
       "25%      31.000000   104.000000     1.000000   999.000000     0.000000   \n",
       "50%      37.000000   181.000000     2.000000   999.000000     0.000000   \n",
       "75%      46.000000   315.000000     3.000000   999.000000     0.000000   \n",
       "max      88.000000  3643.000000    35.000000   999.000000     6.000000   \n",
       "\n",
       "       emp.var.rate  cons.price.idx  cons.conf.idx    euribor3m  nr.employed  \n",
       "count   3090.000000     3090.000000    3090.000000  3090.000000  3090.000000  \n",
       "mean      -0.046796       93.532223     -40.618608     3.481706  5161.138706  \n",
       "std        1.596276        0.585886       4.746448     1.770016    76.482157  \n",
       "min       -3.400000       92.201000     -50.800000     0.635000  4963.600000  \n",
       "25%       -1.800000       93.075000     -42.700000     1.313000  5099.100000  \n",
       "50%        1.100000       93.444000     -41.800000     4.856000  5191.000000  \n",
       "75%        1.400000       93.994000     -36.400000     4.961000  5228.100000  \n",
       "max        1.400000       94.767000     -26.900000     5.045000  5228.100000  "
      ]
     },
     "execution_count": 13,
     "metadata": {},
     "output_type": "execute_result"
    }
   ],
   "source": [
    "descripcion = df.describe()\n",
    "descripcion\n"
   ]
  },
  {
   "cell_type": "markdown",
   "id": "551ad694-da05-4ff4-bab0-a57bcfe28ec7",
   "metadata": {},
   "source": [
    "# Visualizacion variables categoricas"
   ]
  },
  {
   "cell_type": "code",
   "execution_count": 14,
   "id": "8e92c28a-54e4-4eba-806f-197a01e20149",
   "metadata": {},
   "outputs": [],
   "source": [
    "df.rename(columns={'y': 'subscription'}, inplace=True)"
   ]
  },
  {
   "cell_type": "code",
   "execution_count": 15,
   "id": "aa644efd-278f-4c10-b17b-2e62de68e6ff",
   "metadata": {},
   "outputs": [],
   "source": [
    "def plot_categorical_histogram(data, column):\n",
    "    plt.figure(figsize=(8, 4))\n",
    "    \n",
    "    # Ordenar las categorías por frecuencia\n",
    "    ordered_categories = data[column].value_counts().index\n",
    "    \n",
    "    sns.countplot(data=data, x=column, order=ordered_categories)\n",
    "    plt.title('Histograma de {}'.format(column))\n",
    "    plt.xlabel(column)\n",
    "    plt.ylabel('Frecuencia')\n",
    "    \n",
    "    # Ajustar las etiquetas del eje x en posición vertical\n",
    "    plt.xticks(rotation=90)\n",
    "    \n",
    "    plt.show()\n"
   ]
  },
  {
   "cell_type": "code",
   "execution_count": null,
   "id": "a495d539-ba19-4a5c-937f-8beeddb7985a",
   "metadata": {
    "tags": []
   },
   "outputs": [],
   "source": [
    "vbles_categoricas = ['job', 'marital', 'education', 'housing', 'loan', 'contact', 'month', 'day_of_week','poutcome' ,'subscription']\n",
    "for cat in vbles_categoricas:\n",
    "    plot_categorical_histogram(df, cat)"
   ]
  },
  {
   "cell_type": "markdown",
   "id": "cd4a4b64-97f4-4929-ba5b-b0e30108b8b5",
   "metadata": {},
   "source": [
    "## Transformacion de variables "
   ]
  },
  {
   "cell_type": "code",
   "execution_count": 18,
   "id": "ec04ad69-9027-4f5d-9001-c25acffc6e84",
   "metadata": {},
   "outputs": [],
   "source": [
    "# quitamos la variable numero de empleado\n",
    "df = df.drop('nr.employed', axis = 1)"
   ]
  },
  {
   "cell_type": "code",
   "execution_count": 19,
   "id": "1e8f13de-b9ad-424e-8ea2-e3f0ea3814d3",
   "metadata": {},
   "outputs": [],
   "source": [
    "# cambiar la variable month a estaciones\n",
    "\n",
    "seasons_dict = {'mar': 'Spring', 'apr': 'Spring',\n",
    "                'may': 'Spring', 'jun': 'Summer', 'jul': 'Summer', 'aug': 'Summer',\n",
    "                'sep': 'Autumn', 'oct': 'Autumn', 'nov': 'Autumn', 'dec': 'Winter'}\n",
    "\n",
    "df['season'] = df['month'].map(seasons_dict)\n"
   ]
  },
  {
   "cell_type": "code",
   "execution_count": 20,
   "id": "e04a50c0-1d30-4529-9d8f-55e8e51828a8",
   "metadata": {},
   "outputs": [
    {
     "data": {
      "text/plain": [
       "nonexistent    2602\n",
       "failure         360\n",
       "success         128\n",
       "Name: poutcome, dtype: int64"
      ]
     },
     "execution_count": 20,
     "metadata": {},
     "output_type": "execute_result"
    }
   ],
   "source": [
    "df['poutcome'].value_counts()"
   ]
  },
  {
   "cell_type": "code",
   "execution_count": 22,
   "id": "703b2292-f0bb-45b7-9d7c-b414d51dbe0a",
   "metadata": {},
   "outputs": [],
   "source": [
    "# Lista de nombres de las columnas categóricas que deseas codificar\n",
    "categorical_columns = ['job', 'marital', 'education','default','housing', 'loan', 'contact', 'month', 'poutcome', 'subscription','day_of_week', 'season']\n",
    "\n",
    "# Crear una instancia del LabelEncoder\n",
    "encoder = LabelEncoder()\n",
    "\n",
    "# Iterar sobre cada columna categórica y aplicar el LabelEncoder\n",
    "for column in categorical_columns:\n",
    "    df[column] = encoder.fit_transform(df[column])\n",
    "\n"
   ]
  },
  {
   "cell_type": "code",
   "execution_count": 23,
   "id": "2bb12f40-c01d-4bd4-afdb-c0bd663a0d4e",
   "metadata": {},
   "outputs": [],
   "source": [
    "# tirar algunas variables \n",
    "df= df.drop('month', axis=1)"
   ]
  },
  {
   "cell_type": "markdown",
   "id": "f2c9a550-a0fa-421b-a044-b35da1d51b9f",
   "metadata": {},
   "source": [
    "# Matriz de similitud"
   ]
  },
  {
   "cell_type": "markdown",
   "id": "02834d35-e375-4260-a9df-ee35e12c3124",
   "metadata": {},
   "source": [
    "Calculamos la matriz de similitud con la distancia euclidea:"
   ]
  },
  {
   "cell_type": "code",
   "execution_count": 24,
   "id": "20cc106a-7c48-4572-9903-15c0ecaf3e62",
   "metadata": {},
   "outputs": [],
   "source": [
    "df_encoded = df"
   ]
  },
  {
   "cell_type": "code",
   "execution_count": 25,
   "id": "343b85e4-9aef-4306-8a78-050a51dc8296",
   "metadata": {},
   "outputs": [
    {
     "data": {
      "image/png": "[encoded data removed]",
      "text/plain": [
       "<Figure size 720x576 with 2 Axes>"
      ]
     },
     "metadata": {
      "needs_background": "light"
     },
     "output_type": "display_data"
    }
   ],
   "source": [
    "# Calcular la matriz de correlaciones\n",
    "correlation_matrix = df_encoded.corr()\n",
    "\n",
    "# Generar el mapa de calor\n",
    "fig, ax = plt.subplots(figsize=(10, 8))\n",
    "sns.heatmap(correlation_matrix, annot=False, cmap='coolwarm', ax=ax)\n",
    "ax.set(title='Matriz de correlaciones', xlabel='Características', ylabel='Características')\n",
    "plt.show()"
   ]
  },
  {
   "cell_type": "code",
   "execution_count": 26,
   "id": "e77d0e12-c6e0-4957-9b65-91400474b267",
   "metadata": {},
   "outputs": [
    {
     "data": {
      "text/plain": [
       "array([[  0.        , 141.85981801, 260.24293724, ..., 423.07564534,\n",
       "         50.94995594, 312.11777184],\n",
       "       [141.85981801,   0.        , 120.06033188, ..., 282.47994478,\n",
       "        183.15702231, 171.2803861 ],\n",
       "       [260.24293724, 120.06033188,   0.        , ..., 163.20260062,\n",
       "        302.96952397,  52.95846664],\n",
       "       ...,\n",
       "       [423.07564534, 282.47994478, 163.20260062, ...,   0.        ,\n",
       "        465.24466697, 111.48217349],\n",
       "       [ 50.94995594, 183.15702231, 302.96952397, ..., 465.24466697,\n",
       "          0.        , 353.92207511],\n",
       "       [312.11777184, 171.2803861 ,  52.95846664, ..., 111.48217349,\n",
       "        353.92207511,   0.        ]])"
      ]
     },
     "execution_count": 26,
     "metadata": {},
     "output_type": "execute_result"
    }
   ],
   "source": [
    "similarity_matrix = euclidean_distances(df_encoded)\n",
    "similarity_matrix"
   ]
  },
  {
   "cell_type": "markdown",
   "id": "efe5279d-423e-4215-ad21-32835317edf6",
   "metadata": {},
   "source": [
    "# Matriz de afinidad"
   ]
  },
  {
   "cell_type": "code",
   "execution_count": 27,
   "id": "a5f75f79-c503-4cef-b0ce-3ec67de7b287",
   "metadata": {},
   "outputs": [
    {
     "name": "stdout",
     "output_type": "stream",
     "text": [
      "Matriz de afinidad o similitud W:\n",
      "---------------------------------------\n",
      "[[1. 0. 0. ... 0. 0. 0.]\n",
      " [0. 1. 0. ... 0. 0. 0.]\n",
      " [0. 0. 1. ... 0. 0. 0.]\n",
      " ...\n",
      " [0. 0. 0. ... 1. 0. 0.]\n",
      " [0. 0. 0. ... 0. 1. 0.]\n",
      " [0. 0. 0. ... 0. 0. 1.]]\n"
     ]
    }
   ],
   "source": [
    "def construct_affinity_matrix(data, k):\n",
    "    # Calcular la matriz de distancias\n",
    "    distances = manhattan_distances(data)\n",
    "\n",
    "    # Encontrar los k vecinos más cercanos utilizando la matriz de distancias\n",
    "    nbrs = NearestNeighbors(n_neighbors=k, metric='precomputed')\n",
    "    nbrs.fit(distances)\n",
    "    _, indices = nbrs.kneighbors(distances)\n",
    "\n",
    "    # Construir la matriz de afinidad\n",
    "    affinity = np.zeros((len(data), len(data)))\n",
    "    # i,j sosn vecinos si y solo si affinity[i, indices[i]] = 1 or affinity[indices[i], i] = 1 \n",
    "    for i in range(len(data)):\n",
    "        affinity[i, indices[i]] = 1\n",
    "        affinity[indices[i], i] = 1\n",
    "\n",
    "    return affinity\n",
    "\n",
    "W = construct_affinity_matrix(df_encoded, 4)\n",
    "print('Matriz de afinidad o similitud W:')\n",
    "print ('---------------------------------------')\n",
    "print(W)"
   ]
  },
  {
   "cell_type": "markdown",
   "id": "e13eac14-69c0-41dc-a539-3449cb42ed90",
   "metadata": {},
   "source": [
    "# Matriz de grados"
   ]
  },
  {
   "cell_type": "code",
   "execution_count": 28,
   "id": "3cf86c68-ee09-4b95-8a97-9575e78c026e",
   "metadata": {},
   "outputs": [
    {
     "name": "stdout",
     "output_type": "stream",
     "text": [
      "Matriz de grados de un grafo:\n",
      "---------------------------------------\n",
      "[[7. 0. 0. ... 0. 0. 0.]\n",
      " [0. 4. 0. ... 0. 0. 0.]\n",
      " [0. 0. 4. ... 0. 0. 0.]\n",
      " ...\n",
      " [0. 0. 0. ... 5. 0. 0.]\n",
      " [0. 0. 0. ... 0. 4. 0.]\n",
      " [0. 0. 0. ... 0. 0. 4.]]\n"
     ]
    }
   ],
   "source": [
    "D = np.diag(np.sum(W, axis=1))\n",
    "print('Matriz de grados de un grafo:')\n",
    "print ('---------------------------------------')\n",
    "print(D)"
   ]
  },
  {
   "cell_type": "markdown",
   "id": "123c6be6-82e9-4b94-82de-76984bca1975",
   "metadata": {},
   "source": [
    "# 1. Grafo Laplaciano no normalizado."
   ]
  },
  {
   "cell_type": "code",
   "execution_count": 29,
   "id": "e049a706-b172-4f23-b71f-bca8ac9f9869",
   "metadata": {},
   "outputs": [
    {
     "name": "stdout",
     "output_type": "stream",
     "text": [
      "Matriz Laplaciana no normalizada:\n",
      "---------------------------------------\n",
      "[[6. 0. 0. ... 0. 0. 0.]\n",
      " [0. 3. 0. ... 0. 0. 0.]\n",
      " [0. 0. 3. ... 0. 0. 0.]\n",
      " ...\n",
      " [0. 0. 0. ... 4. 0. 0.]\n",
      " [0. 0. 0. ... 0. 3. 0.]\n",
      " [0. 0. 0. ... 0. 0. 3.]]\n"
     ]
    }
   ],
   "source": [
    "# Calcular la matriz Laplaciana no normalizada (L)\n",
    "L = D - W\n",
    "print('Matriz Laplaciana no normalizada:')\n",
    "print ('---------------------------------------')\n",
    "print(L) "
   ]
  },
  {
   "cell_type": "code",
   "execution_count": 30,
   "id": "33ba7fdd-0706-4e13-af7d-aa2dc77af358",
   "metadata": {},
   "outputs": [
    {
     "name": "stdout",
     "output_type": "stream",
     "text": [
      "La matriz es simétrica.\n"
     ]
    }
   ],
   "source": [
    "es_simetrica = np.allclose(L, L.T)\n",
    "\n",
    "if es_simetrica:\n",
    "    print(\"La matriz es simétrica.\")\n",
    "else:\n",
    "    print(\"La matriz no es simétrica.\")"
   ]
  },
  {
   "cell_type": "code",
   "execution_count": 31,
   "id": "128fe972-bd31-40c2-bc0c-273251cd668e",
   "metadata": {},
   "outputs": [
    {
     "name": "stdout",
     "output_type": "stream",
     "text": [
      "Matriz de autovectores puestos como columnas:\n",
      "---------------------------------------\n",
      "[[-0.00000000e+00  0.00000000e+00 -2.57368548e-15 ...  5.24930035e-19\n",
      "  -1.89807616e-19  3.19069527e-16]\n",
      " [ 4.91564634e-16  4.86565607e-18  1.32194797e-14 ...  6.52708784e-12\n",
      "   4.29894727e-12  1.67502708e-08]\n",
      " [ 9.12989402e-16  2.22548208e-17  1.47553820e-14 ...  5.28598270e-08\n",
      "  -2.19751133e-07 -7.19976398e-04]\n",
      " ...\n",
      " [ 7.92535546e-16  5.74363916e-20  6.14380683e-15 ...  3.52998402e-05\n",
      "  -1.91934420e-05  1.22612633e-09]\n",
      " [-8.05020113e-17  8.08287200e-18 -5.63134608e-15 ...  1.38777878e-17\n",
      "  -1.34068375e-17 -1.12214925e-16]\n",
      " [ 9.31260399e-16  1.39269383e-17  1.20343542e-14 ... -4.24505612e-05\n",
      "  -2.87548826e-04  2.11118893e-04]]\n"
     ]
    }
   ],
   "source": [
    "# Calular los autovectores de L\n",
    "\n",
    "eigenvalues, eigenvectors = eigh(L, D)\n",
    "U = eigenvectors\n",
    "\n",
    "sorted_indices = np.argsort(eigenvalues)\n",
    "sorted_eigenvalues = eigenvalues[sorted_indices]\n",
    "\n",
    "print('Matriz de autovectores puestos como columnas:')\n",
    "print ('---------------------------------------')\n",
    "print(U)"
   ]
  },
  {
   "cell_type": "code",
   "execution_count": 32,
   "id": "bfece359-f3b6-4ae2-a31a-b52bd75bfd1b",
   "metadata": {},
   "outputs": [
    {
     "data": {
      "image/png": "[encoded data removed]",
      "text/plain": [
       "<Figure size 720x720 with 1 Axes>"
      ]
     },
     "metadata": {
      "needs_background": "light"
     },
     "output_type": "display_data"
    }
   ],
   "source": [
    "# Tomar los primeros 100 autovalores\n",
    "w_top100 = sorted_eigenvalues[:20]\n",
    "\n",
    "# Crear un DataFrame con los autovalores ordenados\n",
    "df = pd.DataFrame(w_top100).reset_index()\n",
    "\n",
    "# Graficar los autovalores\n",
    "df.plot(\n",
    "    kind='scatter',\n",
    "    x='index',\n",
    "    y=0,\n",
    "    figsize=(10, 10),\n",
    "    s=10\n",
    ")\n",
    "\n",
    "# Etiquetas de los ejes\n",
    "plt.xlabel('Index')\n",
    "plt.ylabel('Eigenvalue')\n",
    "\n",
    "# Título del gráfico\n",
    "plt.title('Eigenvalue Plot')\n",
    "\n",
    "# Mostrar el gráfico\n",
    "plt.show()\n"
   ]
  },
  {
   "cell_type": "code",
   "execution_count": 33,
   "id": "a089ac70-cb64-4ae7-8eb8-aa50c6af3f76",
   "metadata": {},
   "outputs": [
    {
     "name": "stdout",
     "output_type": "stream",
     "text": [
      "Matriz de autovectores puestos como columnas:\n",
      "---------------------------------------\n",
      "[[-0.00000000e+00  0.00000000e+00 -2.57368548e-15  8.27294295e-03\n",
      "   2.50661191e-30]\n",
      " [ 4.91564634e-16  4.86565607e-18  1.32194797e-14  8.27294295e-03\n",
      "  -1.30426892e-15]\n",
      " [ 9.12989402e-16  2.22548208e-17  1.47553820e-14  8.27294295e-03\n",
      "  -3.23614284e-15]\n",
      " ...\n",
      " [ 7.92535546e-16  5.74363916e-20  6.14380683e-15  8.27294295e-03\n",
      "  -2.79752717e-15]\n",
      " [-8.05020113e-17  8.08287200e-18 -5.63134608e-15  8.27294295e-03\n",
      "   2.09034179e-16]\n",
      " [ 9.31260399e-16  1.39269383e-17  1.20343542e-14  8.27294295e-03\n",
      "  -3.24074350e-15]]\n"
     ]
    }
   ],
   "source": [
    "# Elegimos solo los 3 autovalores mas pequeños\n",
    "indices = eigenvalues.argsort()[:5]\n",
    "k_eigenvectors = eigenvectors[:, indices]\n",
    "sorted_indices = np.argsort(eigenvalues)\n",
    "sorted_eigenvalues = eigenvalues[sorted_indices]\n",
    "\n",
    "print('Matriz de autovectores puestos como columnas:')\n",
    "print ('---------------------------------------')\n",
    "print(k_eigenvectors)"
   ]
  },
  {
   "cell_type": "code",
   "execution_count": 34,
   "id": "02226f00-69bf-4133-8cda-8c2fd07a6a73",
   "metadata": {},
   "outputs": [
    {
     "name": "stdout",
     "output_type": "stream",
     "text": [
      "Parte real de los vectores:\n",
      "[[-0.00000000e+00  0.00000000e+00 -2.57368548e-15  8.27294295e-03\n",
      "   2.50661191e-30]\n",
      " [ 4.91564634e-16  4.86565607e-18  1.32194797e-14  8.27294295e-03\n",
      "  -1.30426892e-15]\n",
      " [ 9.12989402e-16  2.22548208e-17  1.47553820e-14  8.27294295e-03\n",
      "  -3.23614284e-15]\n",
      " ...\n",
      " [ 7.92535546e-16  5.74363916e-20  6.14380683e-15  8.27294295e-03\n",
      "  -2.79752717e-15]\n",
      " [-8.05020113e-17  8.08287200e-18 -5.63134608e-15  8.27294295e-03\n",
      "   2.09034179e-16]\n",
      " [ 9.31260399e-16  1.39269383e-17  1.20343542e-14  8.27294295e-03\n",
      "  -3.24074350e-15]]\n"
     ]
    }
   ],
   "source": [
    "# Obtener la parte real de los vectores\n",
    "k_eigenvectors = np.real(k_eigenvectors)\n",
    "\n",
    "print(\"Parte real de los vectores:\")\n",
    "print(k_eigenvectors)"
   ]
  },
  {
   "cell_type": "code",
   "execution_count": 35,
   "id": "05065422-533e-42a4-829a-57f2fab1620f",
   "metadata": {},
   "outputs": [
    {
     "name": "stderr",
     "output_type": "stream",
     "text": [
      "/var/folders/n2/k3kvlgbx71341h8kmyhd27200000gn/T/ipykernel_12063/941666808.py:6: ConvergenceWarning: Number of distinct clusters (6) found smaller than n_clusters (7). Possibly due to duplicate points in X.\n",
      "  k_means.fit(k_eigenvectors)\n"
     ]
    },
    {
     "data": {
      "image/png": "[encoded data removed]",
      "text/plain": [
       "<Figure size 720x576 with 1 Axes>"
      ]
     },
     "metadata": {
      "needs_background": "light"
     },
     "output_type": "display_data"
    }
   ],
   "source": [
    "Sum_of_squared_distances = []\n",
    "\n",
    "k_candidates = range(1, 10)\n",
    "for k in k_candidates:\n",
    "    k_means = KMeans(random_state=42, n_clusters=k)\n",
    "    k_means.fit(k_eigenvectors)\n",
    "    Sum_of_squared_distances.append(k_means.inertia_)\n",
    "\n",
    "fig, ax = plt.subplots(figsize=(10, 8))\n",
    "sns.scatterplot(x=k_candidates, y = Sum_of_squared_distances, s=80, ax=ax)\n",
    "sns.scatterplot(x=[k_candidates[4]], y = [Sum_of_squared_distances[4]],  s=150, ax=ax)\n",
    "sns.lineplot(x=k_candidates, y = Sum_of_squared_distances, alpha=0.5, ax=ax)\n",
    "ax.set(title='Método Elbow para encontrar el k óptimo', ylabel='Sum_of_squared_distances', xlabel='k');"
   ]
  },
  {
   "cell_type": "code",
   "execution_count": 36,
   "id": "2508db9d-e688-47d2-a962-7cab65c6f4df",
   "metadata": {},
   "outputs": [],
   "source": [
    "# Aplicar el algoritmo K-means a los autovectores\n",
    "kmeans1 = KMeans(n_clusters=5)\n",
    "kmeans1.fit(k_eigenvectors)\n",
    "labels_1 = kmeans1.labels_\n",
    "\n",
    "# Obtener los clusters\n",
    "clusters = []\n",
    "for i in range(5):\n",
    "    cluster_i = np.where(labels_1 == i)[0]\n",
    "    clusters.append(cluster_i)"
   ]
  },
  {
   "cell_type": "code",
   "execution_count": 37,
   "id": "19ce99aa-ebe0-47aa-ba1f-8df0654aab17",
   "metadata": {},
   "outputs": [
    {
     "name": "stdout",
     "output_type": "stream",
     "text": [
      "El cluster 1 tiene 2883 observaciones.\n",
      "El cluster 2 tiene 73 observaciones.\n",
      "El cluster 3 tiene 56 observaciones.\n",
      "El cluster 4 tiene 69 observaciones.\n",
      "El cluster 5 tiene 9 observaciones.\n"
     ]
    }
   ],
   "source": [
    "for i, cluster in enumerate(clusters):\n",
    "    num_observations = len(cluster)\n",
    "    print(f\"El cluster {i+1} tiene {num_observations} observaciones.\")\n"
   ]
  },
  {
   "cell_type": "markdown",
   "id": "898b53b3-a4cb-410f-b969-bca8a3fdcb1d",
   "metadata": {},
   "source": [
    "# 2. Grafo Laplaciano Normalizado "
   ]
  },
  {
   "cell_type": "code",
   "execution_count": 38,
   "id": "13e1a42f-b689-48fc-9fe6-a6e0cc8af209",
   "metadata": {},
   "outputs": [
    {
     "name": "stdout",
     "output_type": "stream",
     "text": [
      "Matriz Laplaciana normalizada:\n",
      "---------------------------------------\n",
      "Matriz Ls:\n",
      "[[0.85714286 0.         0.         ... 0.         0.         0.        ]\n",
      " [0.         0.75       0.         ... 0.         0.         0.        ]\n",
      " [0.         0.         0.75       ... 0.         0.         0.        ]\n",
      " ...\n",
      " [0.         0.         0.         ... 0.8        0.         0.        ]\n",
      " [0.         0.         0.         ... 0.         0.75       0.        ]\n",
      " [0.         0.         0.         ... 0.         0.         0.75      ]]\n",
      "---------------------------------------\n",
      "Matriz Lrw:\n",
      "[[0.85714286 0.         0.         ... 0.         0.         0.        ]\n",
      " [0.         0.75       0.         ... 0.         0.         0.        ]\n",
      " [0.         0.         0.75       ... 0.         0.         0.        ]\n",
      " ...\n",
      " [0.         0.         0.         ... 0.8        0.         0.        ]\n",
      " [0.         0.         0.         ... 0.         0.75       0.        ]\n",
      " [0.         0.         0.         ... 0.         0.         0.75      ]]\n"
     ]
    }
   ],
   "source": [
    "# Cálculo de la matriz Ls\n",
    "D_sqrt_inv = np.diag(1 / np.sqrt(np.diag(D)))\n",
    "Ls = np.eye(W.shape[0]) - D_sqrt_inv.dot(W).dot(D_sqrt_inv)\n",
    "\n",
    "# Cálculo de la matriz Lrw\n",
    "D_inv = np.linalg.inv(D)\n",
    "Lrw = np.eye(D.shape[0]) - D_inv.dot(W)\n",
    "\n",
    "print('Matriz Laplaciana normalizada:')\n",
    "print ('---------------------------------------')\n",
    "print(\"Matriz Ls:\")\n",
    "print(Ls)\n",
    "print ('---------------------------------------')\n",
    "print(\"Matriz Lrw:\")\n",
    "print(Lrw)"
   ]
  },
  {
   "cell_type": "markdown",
   "id": "c193ffc4-bd69-4030-a45e-7b53bace8817",
   "metadata": {},
   "source": [
    "## Segun Shi and Malik [2000]"
   ]
  },
  {
   "cell_type": "code",
   "execution_count": 39,
   "id": "171cf7ec-cf06-4f1a-bc03-a71d182429e2",
   "metadata": {},
   "outputs": [
    {
     "name": "stdout",
     "output_type": "stream",
     "text": [
      "Matriz de autovectores puestos como columnas:\n",
      "---------------------------------------\n",
      "[[-0.00019537+0.j -0.01587935+0.j -0.01862321+0.j -0.00014   +0.j\n",
      "  -0.00064777+0.j]\n",
      " [-0.00019537+0.j -0.01587935+0.j -0.01862321+0.j -0.00014   +0.j\n",
      "  -0.00064777+0.j]\n",
      " [-0.00019537+0.j -0.01587935+0.j -0.01862321+0.j -0.00014   +0.j\n",
      "  -0.00064777+0.j]\n",
      " ...\n",
      " [-0.00019537+0.j -0.01587935+0.j -0.01862321+0.j -0.00014   +0.j\n",
      "  -0.00064777+0.j]\n",
      " [-0.00019537+0.j -0.01587935+0.j -0.01862321+0.j -0.00014   +0.j\n",
      "  -0.00064777+0.j]\n",
      " [-0.00019537+0.j -0.01587935+0.j -0.01862321+0.j -0.00014   +0.j\n",
      "  -0.00064777+0.j]]\n"
     ]
    }
   ],
   "source": [
    "# Elegimos solo los 3 autovalores mas pequeños\n",
    "eigenvaluesLrw, eigenvectorsLrw = np.linalg.eig(Lrw)\n",
    "indices = eigenvaluesLrw.argsort()[:5]\n",
    "k_eigenvectorsLrw = eigenvectorsLrw[:, indices]\n",
    "sorted_indices = np.argsort(eigenvaluesLrw)\n",
    "sorted_eigenvalues = eigenvaluesLrw[sorted_indices]\n",
    "\n",
    "print('Matriz de autovectores puestos como columnas:')\n",
    "print ('---------------------------------------')\n",
    "print(k_eigenvectorsLrw)"
   ]
  },
  {
   "cell_type": "code",
   "execution_count": 40,
   "id": "b54b872e-43c9-4669-bb72-3453c4feab0e",
   "metadata": {},
   "outputs": [
    {
     "name": "stdout",
     "output_type": "stream",
     "text": [
      "Parte real de los vectores:\n",
      "[[-0.00019537 -0.01587935 -0.01862321 -0.00014    -0.00064777]\n",
      " [-0.00019537 -0.01587935 -0.01862321 -0.00014    -0.00064777]\n",
      " [-0.00019537 -0.01587935 -0.01862321 -0.00014    -0.00064777]\n",
      " ...\n",
      " [-0.00019537 -0.01587935 -0.01862321 -0.00014    -0.00064777]\n",
      " [-0.00019537 -0.01587935 -0.01862321 -0.00014    -0.00064777]\n",
      " [-0.00019537 -0.01587935 -0.01862321 -0.00014    -0.00064777]]\n"
     ]
    }
   ],
   "source": [
    "# Obtener la parte real de los vectores\n",
    "k_eigenvectorsLrw = np.real(k_eigenvectorsLrw)\n",
    "\n",
    "print(\"Parte real de los vectores:\")\n",
    "print(k_eigenvectorsLrw)"
   ]
  },
  {
   "cell_type": "code",
   "execution_count": 41,
   "id": "36aebd3a-1e07-4531-937a-c63ce5051e12",
   "metadata": {},
   "outputs": [
    {
     "data": {
      "image/png": "[encoded data removed]",
      "text/plain": [
       "<Figure size 720x576 with 1 Axes>"
      ]
     },
     "metadata": {
      "needs_background": "light"
     },
     "output_type": "display_data"
    }
   ],
   "source": [
    "Sum_of_squared_distances = []\n",
    "\n",
    "k_candidates = range(1, 10)\n",
    "\n",
    "for k in k_candidates:\n",
    "    k_means = KMeans(random_state=42, n_clusters=k)\n",
    "    k_means.fit(k_eigenvectorsLrw)\n",
    "    Sum_of_squared_distances.append(k_means.inertia_)\n",
    "\n",
    "fig, ax = plt.subplots(figsize=(10, 8))\n",
    "sns.scatterplot(x=k_candidates, y = Sum_of_squared_distances, s=80, ax=ax)\n",
    "sns.scatterplot(x=[k_candidates[3]], y = [Sum_of_squared_distances[3]],  s=150, ax=ax)\n",
    "sns.lineplot(x=k_candidates, y = Sum_of_squared_distances, alpha=0.5, ax=ax)\n",
    "ax.set(title='Método Elbow para encontrar el k óptimo', ylabel='Sum_of_squared_distances', xlabel='k');"
   ]
  },
  {
   "cell_type": "code",
   "execution_count": 42,
   "id": "48b62ec0-e3a3-42c7-b196-9063c7e4a6d7",
   "metadata": {},
   "outputs": [],
   "source": [
    "# Aplicar el algoritmo K-means a los autovectores\n",
    "kmeans2 = KMeans(n_clusters=4)\n",
    "kmeans2.fit(k_eigenvectorsLrw)\n",
    "labels_2 = kmeans2.labels_\n",
    "\n",
    "# Obtener los clusters\n",
    "clusters = []\n",
    "for i in range(4):\n",
    "    cluster_i = np.where(labels_2 == i)[0]\n",
    "    clusters.append(cluster_i)"
   ]
  },
  {
   "cell_type": "code",
   "execution_count": 43,
   "id": "853adea5-96fe-4b15-88d0-ff23102e35ec",
   "metadata": {},
   "outputs": [
    {
     "name": "stdout",
     "output_type": "stream",
     "text": [
      "El cluster 1 tiene 2883 observaciones.\n",
      "El cluster 2 tiene 129 observaciones.\n",
      "El cluster 3 tiene 9 observaciones.\n",
      "El cluster 4 tiene 69 observaciones.\n"
     ]
    }
   ],
   "source": [
    "for i, cluster in enumerate(clusters):\n",
    "    num_observations = len(cluster)\n",
    "    print(f\"El cluster {i+1} tiene {num_observations} observaciones.\")\n"
   ]
  },
  {
   "cell_type": "markdown",
   "id": "19d0e920-e844-40ef-9e82-331eb9c50c67",
   "metadata": {},
   "source": [
    "## Segun Ng et al. [2002]"
   ]
  },
  {
   "cell_type": "code",
   "execution_count": 44,
   "id": "0bfd6a64-5a16-462c-9ac4-307f2d1b10fe",
   "metadata": {},
   "outputs": [],
   "source": [
    "def normalize_rows(matrix):\n",
    "    row_sums = np.sqrt(np.sum(matrix ** 2, axis=1, keepdims=True))\n",
    "    return matrix / row_sums"
   ]
  },
  {
   "cell_type": "code",
   "execution_count": 45,
   "id": "e3ced08d-e8d9-453f-906c-530e33734df7",
   "metadata": {},
   "outputs": [
    {
     "name": "stdout",
     "output_type": "stream",
     "text": [
      "Matriz de autovectores puestos como columnas:\n",
      "---------------------------------------\n",
      "[[-8.57599874e-08+0.j  2.15939248e-02+0.j -5.76819854e-04+0.j\n",
      "  -4.53840131e-10+0.j  4.88666641e-05+0.j]\n",
      " [-6.48284572e-08+0.j  1.63234728e-02+0.j -4.36034824e-04+0.j\n",
      "  -3.43071010e-10+0.j  3.69397259e-05+0.j]\n",
      " [-6.48284573e-08+0.j  1.63234728e-02+0.j -4.36034824e-04+0.j\n",
      "  -3.43070892e-10+0.j  3.69397259e-05+0.j]\n",
      " ...\n",
      " [-7.24804180e-08+0.j  1.82501974e-02+0.j -4.87501754e-04+0.j\n",
      "  -3.83564495e-10+0.j  4.12998690e-05+0.j]\n",
      " [-6.48284570e-08+0.j  1.63234728e-02+0.j -4.36034824e-04+0.j\n",
      "  -3.43070886e-10+0.j  3.69397259e-05+0.j]\n",
      " [-6.48284563e-08+0.j  1.63234728e-02+0.j -4.36034824e-04+0.j\n",
      "  -3.43070634e-10+0.j  3.69397259e-05+0.j]]\n"
     ]
    }
   ],
   "source": [
    "# Calcular los k primeros autovectores generalizados\n",
    "eigenvaluesLs, eigenvectorsLs = np.linalg.eig(Ls)\n",
    "indices = eigenvaluesLs.argsort()[:5]\n",
    "k_eigenvectorsLs = eigenvectorsLs[:, indices]\n",
    "sorted_indices = np.argsort(eigenvaluesLs)\n",
    "sorted_eigenvalues = eigenvaluesLs[sorted_indices]\n",
    "\n",
    "print('Matriz de autovectores puestos como columnas:')\n",
    "print ('---------------------------------------')\n",
    "print(k_eigenvectorsLs)"
   ]
  },
  {
   "cell_type": "code",
   "execution_count": 46,
   "id": "dd824ae4-7821-4c64-8550-14ee30fc876a",
   "metadata": {},
   "outputs": [
    {
     "name": "stdout",
     "output_type": "stream",
     "text": [
      "Parte real de los vectores:\n",
      "[[-8.57599874e-08  2.15939248e-02 -5.76819854e-04 -4.53840131e-10\n",
      "   4.88666641e-05]\n",
      " [-6.48284572e-08  1.63234728e-02 -4.36034824e-04 -3.43071010e-10\n",
      "   3.69397259e-05]\n",
      " [-6.48284573e-08  1.63234728e-02 -4.36034824e-04 -3.43070892e-10\n",
      "   3.69397259e-05]\n",
      " ...\n",
      " [-7.24804180e-08  1.82501974e-02 -4.87501754e-04 -3.83564495e-10\n",
      "   4.12998690e-05]\n",
      " [-6.48284570e-08  1.63234728e-02 -4.36034824e-04 -3.43070886e-10\n",
      "   3.69397259e-05]\n",
      " [-6.48284563e-08  1.63234728e-02 -4.36034824e-04 -3.43070634e-10\n",
      "   3.69397259e-05]]\n"
     ]
    }
   ],
   "source": [
    "# Obtener la parte real de los vectores\n",
    "k_eigenvectorsLs = np.real(k_eigenvectorsLs)\n",
    "\n",
    "print(\"Parte real de los vectores:\")\n",
    "print(k_eigenvectorsLs)"
   ]
  },
  {
   "cell_type": "code",
   "execution_count": 47,
   "id": "3ee8d5b0-2f01-407c-83c5-db233d2e6184",
   "metadata": {},
   "outputs": [
    {
     "data": {
      "image/png": "[encoded data removed]",
      "text/plain": [
       "<Figure size 720x576 with 1 Axes>"
      ]
     },
     "metadata": {
      "needs_background": "light"
     },
     "output_type": "display_data"
    }
   ],
   "source": [
    "Sum_of_squared_distances = []\n",
    "\n",
    "k_candidates = range(1, 10)\n",
    "\n",
    "for k in k_candidates:\n",
    "    k_means = KMeans(random_state=42, n_clusters=k)\n",
    "    k_means.fit(k_eigenvectorsLrw)\n",
    "    Sum_of_squared_distances.append(k_means.inertia_)\n",
    "\n",
    "fig, ax = plt.subplots(figsize=(10, 8))\n",
    "sns.scatterplot(x=k_candidates, y = Sum_of_squared_distances, s=80, ax=ax)\n",
    "sns.scatterplot(x=[k_candidates[3]], y = [Sum_of_squared_distances[3]],  s=150, ax=ax)\n",
    "sns.lineplot(x=k_candidates, y = Sum_of_squared_distances, alpha=0.5, ax=ax)\n",
    "ax.set(title='Método Elbow para encontrar el k óptimo', ylabel='Sum_of_squared_distances', xlabel='k');"
   ]
  },
  {
   "cell_type": "code",
   "execution_count": 48,
   "id": "6aeea1d8-660f-4ea6-9ee8-cd719e512b90",
   "metadata": {},
   "outputs": [],
   "source": [
    "# Construir matriz T normalizando las filas de U\n",
    "T = normalize_rows(k_eigenvectorsLs)\n",
    "\n",
    "# Ejecutar el algoritmo de k-means\n",
    "kmeans3 = KMeans(n_clusters=4)\n",
    "kmeans3.fit(T)\n",
    "# Obtener las etiquetas de los clusters\n",
    "labels_3 = kmeans3.labels_\n",
    "# Obtener los clusters\n",
    "clusters = {}\n",
    "for i, label in enumerate(labels_3):\n",
    "    if label not in clusters:\n",
    "        clusters[label] = []\n",
    "    clusters[label].append(i)"
   ]
  },
  {
   "cell_type": "code",
   "execution_count": 49,
   "id": "c8c2219d-7d48-4ed0-b53e-8229942571d2",
   "metadata": {},
   "outputs": [
    {
     "name": "stdout",
     "output_type": "stream",
     "text": [
      "Cluster 1: 2883 observaciones\n",
      "Cluster 3: 69 observaciones\n",
      "Cluster 2: 73 observaciones\n",
      "Cluster 4: 65 observaciones\n"
     ]
    }
   ],
   "source": [
    "#Imprimir el número de observaciones en cada cluster\n",
    "for label, cluster in clusters.items():\n",
    "    num_observaciones = len(cluster)\n",
    "    print(f\"Cluster {label+1}: {num_observaciones} observaciones\")"
   ]
  },
  {
   "cell_type": "markdown",
   "id": "74a83dc0-93a0-4456-95f8-0dcafd1216e0",
   "metadata": {},
   "source": [
    "# Medidas de Bondad de ajuste"
   ]
  },
  {
   "cell_type": "markdown",
   "id": "75725985-db6b-468f-846b-f573ef190048",
   "metadata": {},
   "source": [
    "# Validacion interna "
   ]
  },
  {
   "cell_type": "code",
   "execution_count": 50,
   "id": "bf79e563-255a-4fb2-b65b-1d0a9ded3614",
   "metadata": {},
   "outputs": [
    {
     "name": "stdout",
     "output_type": "stream",
     "text": [
      "Lagrangiano no normalizado\n",
      "Silhouette Score: 0.7448176462617266\n",
      "Calinski-Harabasz Index: 1586.4034799019632\n",
      "Davies-Bouldin Index: 0.6216754376235739\n",
      "-------------------------------------\n",
      "Lagrangiano normalizado Shi and Malik\n",
      "Silhouette Score: 0.7524267076797644\n",
      "Calinski-Harabasz Index: 1153.6931739212296\n",
      "Davies-Bouldin Index: 0.9025063273346594\n",
      "-------------------------------------\n",
      "Lagrangiano normalizado Ng et al.\n",
      "Silhouette Score: 0.7629034851895394\n",
      "Calinski-Harabasz Index: 1878.0957834808255\n",
      "Davies-Bouldin Index: 0.5661613244321928\n"
     ]
    }
   ],
   "source": [
    "from sklearn import metrics\n",
    "\n",
    "# Calcular el Silhouette Score\n",
    "silhouette_score_1 = metrics.silhouette_score(df_encoded, labels_1)\n",
    "silhouette_score_2 = metrics.silhouette_score(df_encoded, labels_2)\n",
    "silhouette_score_3 = metrics.silhouette_score(df_encoded, labels_3)\n",
    "\n",
    "# Calcular el Calinski-Harabasz Index\n",
    "calinski_score_1 = metrics.calinski_harabasz_score(df_encoded, labels_1)\n",
    "calinski_score_2 = metrics.calinski_harabasz_score(df_encoded, labels_2)\n",
    "calinski_score_3 = metrics.calinski_harabasz_score(df_encoded, labels_3)\n",
    "\n",
    "# Calcular el Davies-Bouldin Index\n",
    "davies_bouldin_score_1 = metrics.davies_bouldin_score(df_encoded, labels_1)\n",
    "davies_bouldin_score_2 = metrics.davies_bouldin_score(df_encoded, labels_2)\n",
    "davies_bouldin_score_3 = metrics.davies_bouldin_score(df_encoded, labels_3)\n",
    "\n",
    "# Imprimir los resultados\n",
    "print(\"Lagrangiano no normalizado\")\n",
    "print(\"Silhouette Score:\", silhouette_score_1)\n",
    "print(\"Calinski-Harabasz Index:\", calinski_score_1)\n",
    "print(\"Davies-Bouldin Index:\", davies_bouldin_score_1)\n",
    "print('-------------------------------------')\n",
    "print(\"Lagrangiano normalizado Shi and Malik\")\n",
    "print(\"Silhouette Score:\", silhouette_score_2)\n",
    "print(\"Calinski-Harabasz Index:\", calinski_score_2)\n",
    "print(\"Davies-Bouldin Index:\", davies_bouldin_score_2)\n",
    "print('-------------------------------------')\n",
    "print(\"Lagrangiano normalizado Ng et al.\")\n",
    "print(\"Silhouette Score:\", silhouette_score_3)\n",
    "print(\"Calinski-Harabasz Index:\", calinski_score_3)\n",
    "print(\"Davies-Bouldin Index:\", davies_bouldin_score_3)"
   ]
  }
 ],
 "metadata": {
  "kernelspec": {
   "display_name": "Python 3 (ipykernel)",
   "language": "python",
   "name": "python3"
  },
  "language_info": {
   "codemirror_mode": {
    "name": "ipython",
    "version": 3
   },
   "file_extension": ".py",
   "mimetype": "text/x-python",
   "name": "python",
   "nbconvert_exporter": "python",
   "pygments_lexer": "ipython3",
   "version": "3.9.12"
  }
 },
 "nbformat": 4,
 "nbformat_minor": 5
}
