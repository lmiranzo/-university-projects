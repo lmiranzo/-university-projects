{
 "cells": [
  {
   "cell_type": "markdown",
   "id": "0cdcb5e4",
   "metadata": {},
   "source": [
    "# kmeans"
   ]
  },
  {
   "cell_type": "code",
   "execution_count": 1,
   "id": "90945d89-1a52-4154-8f45-2e675a441c6d",
   "metadata": {},
   "outputs": [],
   "source": [
    "import pandas as pd\n",
    "import numpy as np\n",
    "from sklearn.preprocessing import LabelEncoder\n",
    "from sklearn.metrics.pairwise import euclidean_distances\n",
    "import seaborn as sns\n",
    "import matplotlib.pyplot as plt\n",
    "from sklearn.neighbors import NearestNeighbors\n",
    "from scipy.linalg import eigh\n",
    "from sklearn.cluster import KMeans\n",
    "from sklearn.metrics import pairwise_distances\n",
    "from sklearn import metrics\n",
    "from sklearn.preprocessing import StandardScaler\n"
   ]
  },
  {
   "cell_type": "code",
   "execution_count": 2,
   "id": "4dde4ada",
   "metadata": {},
   "outputs": [
    {
     "data": {
      "text/html": [
       "<div>\n",
       "<style scoped>\n",
       "    .dataframe tbody tr th:only-of-type {\n",
       "        vertical-align: middle;\n",
       "    }\n",
       "\n",
       "    .dataframe tbody tr th {\n",
       "        vertical-align: top;\n",
       "    }\n",
       "\n",
       "    .dataframe thead th {\n",
       "        text-align: right;\n",
       "    }\n",
       "</style>\n",
       "<table border=\"1\" class=\"dataframe\">\n",
       "  <thead>\n",
       "    <tr style=\"text-align: right;\">\n",
       "      <th></th>\n",
       "      <th>age</th>\n",
       "      <th>job</th>\n",
       "      <th>marital</th>\n",
       "      <th>education</th>\n",
       "      <th>default</th>\n",
       "      <th>housing</th>\n",
       "      <th>loan</th>\n",
       "      <th>contact</th>\n",
       "      <th>day_of_week</th>\n",
       "      <th>duration</th>\n",
       "      <th>campaign</th>\n",
       "      <th>pdays</th>\n",
       "      <th>previous</th>\n",
       "      <th>poutcome</th>\n",
       "      <th>emp.var.rate</th>\n",
       "      <th>cons.price.idx</th>\n",
       "      <th>cons.conf.idx</th>\n",
       "      <th>euribor3m</th>\n",
       "      <th>subscription</th>\n",
       "      <th>season</th>\n",
       "    </tr>\n",
       "  </thead>\n",
       "  <tbody>\n",
       "    <tr>\n",
       "      <th>0</th>\n",
       "      <td>30</td>\n",
       "      <td>1</td>\n",
       "      <td>1</td>\n",
       "      <td>2</td>\n",
       "      <td>0</td>\n",
       "      <td>1</td>\n",
       "      <td>0</td>\n",
       "      <td>0</td>\n",
       "      <td>0</td>\n",
       "      <td>487</td>\n",
       "      <td>2</td>\n",
       "      <td>999</td>\n",
       "      <td>0</td>\n",
       "      <td>1</td>\n",
       "      <td>-1.8</td>\n",
       "      <td>92.893</td>\n",
       "      <td>-46.2</td>\n",
       "      <td>1.313</td>\n",
       "      <td>0</td>\n",
       "      <td>1</td>\n",
       "    </tr>\n",
       "    <tr>\n",
       "      <th>1</th>\n",
       "      <td>39</td>\n",
       "      <td>7</td>\n",
       "      <td>2</td>\n",
       "      <td>3</td>\n",
       "      <td>0</td>\n",
       "      <td>0</td>\n",
       "      <td>0</td>\n",
       "      <td>1</td>\n",
       "      <td>0</td>\n",
       "      <td>346</td>\n",
       "      <td>4</td>\n",
       "      <td>999</td>\n",
       "      <td>0</td>\n",
       "      <td>1</td>\n",
       "      <td>1.1</td>\n",
       "      <td>93.994</td>\n",
       "      <td>-36.4</td>\n",
       "      <td>4.855</td>\n",
       "      <td>0</td>\n",
       "      <td>1</td>\n",
       "    </tr>\n",
       "    <tr>\n",
       "      <th>2</th>\n",
       "      <td>25</td>\n",
       "      <td>7</td>\n",
       "      <td>1</td>\n",
       "      <td>3</td>\n",
       "      <td>0</td>\n",
       "      <td>1</td>\n",
       "      <td>0</td>\n",
       "      <td>1</td>\n",
       "      <td>4</td>\n",
       "      <td>227</td>\n",
       "      <td>1</td>\n",
       "      <td>999</td>\n",
       "      <td>0</td>\n",
       "      <td>1</td>\n",
       "      <td>1.4</td>\n",
       "      <td>94.465</td>\n",
       "      <td>-41.8</td>\n",
       "      <td>4.962</td>\n",
       "      <td>0</td>\n",
       "      <td>2</td>\n",
       "    </tr>\n",
       "    <tr>\n",
       "      <th>3</th>\n",
       "      <td>47</td>\n",
       "      <td>0</td>\n",
       "      <td>1</td>\n",
       "      <td>6</td>\n",
       "      <td>0</td>\n",
       "      <td>1</td>\n",
       "      <td>0</td>\n",
       "      <td>0</td>\n",
       "      <td>1</td>\n",
       "      <td>58</td>\n",
       "      <td>1</td>\n",
       "      <td>999</td>\n",
       "      <td>0</td>\n",
       "      <td>1</td>\n",
       "      <td>-0.1</td>\n",
       "      <td>93.200</td>\n",
       "      <td>-42.0</td>\n",
       "      <td>4.191</td>\n",
       "      <td>0</td>\n",
       "      <td>0</td>\n",
       "    </tr>\n",
       "    <tr>\n",
       "      <th>4</th>\n",
       "      <td>32</td>\n",
       "      <td>7</td>\n",
       "      <td>2</td>\n",
       "      <td>6</td>\n",
       "      <td>0</td>\n",
       "      <td>0</td>\n",
       "      <td>0</td>\n",
       "      <td>0</td>\n",
       "      <td>2</td>\n",
       "      <td>128</td>\n",
       "      <td>3</td>\n",
       "      <td>999</td>\n",
       "      <td>2</td>\n",
       "      <td>0</td>\n",
       "      <td>-1.1</td>\n",
       "      <td>94.199</td>\n",
       "      <td>-37.5</td>\n",
       "      <td>0.884</td>\n",
       "      <td>0</td>\n",
       "      <td>0</td>\n",
       "    </tr>\n",
       "  </tbody>\n",
       "</table>\n",
       "</div>"
      ],
      "text/plain": [
       "   age  job  marital  education  default  housing  loan  contact  day_of_week  \\\n",
       "0   30    1        1          2        0        1     0        0            0   \n",
       "1   39    7        2          3        0        0     0        1            0   \n",
       "2   25    7        1          3        0        1     0        1            4   \n",
       "3   47    0        1          6        0        1     0        0            1   \n",
       "4   32    7        2          6        0        0     0        0            2   \n",
       "\n",
       "   duration  campaign  pdays  previous  poutcome  emp.var.rate  \\\n",
       "0       487         2    999         0         1          -1.8   \n",
       "1       346         4    999         0         1           1.1   \n",
       "2       227         1    999         0         1           1.4   \n",
       "3        58         1    999         0         1          -0.1   \n",
       "4       128         3    999         2         0          -1.1   \n",
       "\n",
       "   cons.price.idx  cons.conf.idx  euribor3m  subscription  season  \n",
       "0          92.893          -46.2      1.313             0       1  \n",
       "1          93.994          -36.4      4.855             0       1  \n",
       "2          94.465          -41.8      4.962             0       2  \n",
       "3          93.200          -42.0      4.191             0       0  \n",
       "4          94.199          -37.5      0.884             0       0  "
      ]
     },
     "execution_count": 2,
     "metadata": {},
     "output_type": "execute_result"
    }
   ],
   "source": [
    "df  = pd.read_csv('df_tratado55.csv')\n",
    "df= df.drop('Unnamed: 0', axis= 1)\n",
    "df.head()"
   ]
  },
  {
   "cell_type": "code",
   "execution_count": 3,
   "id": "b59183ef-1932-41db-a8b8-fad168747754",
   "metadata": {},
   "outputs": [
    {
     "data": {
      "text/plain": [
       "0    3089\n",
       "1       1\n",
       "Name: default, dtype: int64"
      ]
     },
     "execution_count": 3,
     "metadata": {},
     "output_type": "execute_result"
    }
   ],
   "source": [
    "df['default'].value_counts()"
   ]
  },
  {
   "cell_type": "code",
   "execution_count": 4,
   "id": "47a2dd87",
   "metadata": {},
   "outputs": [
    {
     "data": {
      "text/plain": [
       "array([[30.   ,  1.   ,  1.   , ...,  1.313,  0.   ,  1.   ],\n",
       "       [39.   ,  7.   ,  2.   , ...,  4.855,  0.   ,  1.   ],\n",
       "       [25.   ,  7.   ,  1.   , ...,  4.962,  0.   ,  2.   ],\n",
       "       ...,\n",
       "       [27.   ,  8.   ,  2.   , ...,  1.354,  0.   ,  1.   ],\n",
       "       [58.   ,  0.   ,  1.   , ...,  4.966,  0.   ,  2.   ],\n",
       "       [34.   ,  4.   ,  2.   , ...,  4.12 ,  0.   ,  0.   ]])"
      ]
     },
     "execution_count": 4,
     "metadata": {},
     "output_type": "execute_result"
    }
   ],
   "source": [
    "X = df.values\n",
    "X"
   ]
  },
  {
   "cell_type": "code",
   "execution_count": 14,
   "id": "f1f45dcb-a7ec-4c45-b273-247f2265ab5d",
   "metadata": {},
   "outputs": [
    {
     "data": {
      "image/png": "[encoded data removed]",
      "text/plain": [
       "<Figure size 432x432 with 1 Axes>"
      ]
     },
     "metadata": {},
     "output_type": "display_data"
    }
   ],
   "source": [
    "Sum_of_squared_distances = []\n",
    "\n",
    "k_candidates = range(1, 14)\n",
    "for k in k_candidates:\n",
    "    k_means = KMeans(random_state=42, n_clusters=k)\n",
    "    k_means.fit(X)\n",
    "    Sum_of_squared_distances.append(k_means.inertia_)\n",
    "\n",
    "fig, ax = plt.subplots(figsize=(6, 6))\n",
    "sns.scatterplot(x=k_candidates, y = Sum_of_squared_distances, s=80, ax=ax)\n",
    "sns.scatterplot(x=[k_candidates[3]], y = [Sum_of_squared_distances[3]],  s=150, ax=ax)\n",
    "sns.lineplot(x=k_candidates, y = Sum_of_squared_distances, alpha=0.5, ax=ax)\n",
    "ax.set(title='Método Elbow para encontrar el k óptimo', ylabel='Sum_of_squared_distances', xlabel='k');"
   ]
  },
  {
   "cell_type": "code",
   "execution_count": 7,
   "id": "8e55344a",
   "metadata": {},
   "outputs": [],
   "source": [
    "# Ejecutar el algoritmo de k-means\n",
    "kmeans = KMeans(n_clusters=4)\n",
    "kmeans.fit(X)\n",
    "labels = kmeans.labels_\n",
    "\n",
    "clusters = []\n",
    "for i in range(4):\n",
    "    cluster_i = np.where(labels == i)[0]\n",
    "    clusters.append(cluster_i)"
   ]
  },
  {
   "cell_type": "code",
   "execution_count": 8,
   "id": "f81a6745-c3df-435a-a9b5-3bb74476d917",
   "metadata": {},
   "outputs": [
    {
     "name": "stdout",
     "output_type": "stream",
     "text": [
      "El cluster 1 tiene 2270 observaciones.\n",
      "El cluster 2 tiene 90 observaciones.\n",
      "El cluster 3 tiene 140 observaciones.\n",
      "El cluster 4 tiene 590 observaciones.\n"
     ]
    }
   ],
   "source": [
    "for i, cluster in enumerate(clusters):\n",
    "    num_observations = len(cluster)\n",
    "    print(f\"El cluster {i+1} tiene {num_observations} observaciones.\")"
   ]
  },
  {
   "cell_type": "code",
   "execution_count": 9,
   "id": "5825a750-5be4-46ab-a5da-f17caf4c7d65",
   "metadata": {},
   "outputs": [
    {
     "data": {
      "text/plain": [
       "0.48765196681792866"
      ]
     },
     "execution_count": 9,
     "metadata": {},
     "output_type": "execute_result"
    }
   ],
   "source": [
    "silhouette_score = metrics.silhouette_score(df, labels)\n",
    "calinski_score = metrics.calinski_harabasz_score(df, labels)\n",
    "davies_bouldin_score = metrics.davies_bouldin_score(df, labels)\n",
    "silhouette_score\n",
    "calinski_score\n",
    "davies_bouldin_score"
   ]
  },
  {
   "cell_type": "code",
   "execution_count": 10,
   "id": "d4d0e3d9",
   "metadata": {},
   "outputs": [
    {
     "data": {
      "image/png": "[encoded data removed]",
      "text/plain": [
       "<Figure size 576x396 with 1 Axes>"
      ]
     },
     "metadata": {},
     "output_type": "display_data"
    },
    {
     "data": {
      "text/plain": [
       "<AxesSubplot:title={'center':'Silhouette Plot of KMeans Clustering for 3090 Samples in 4 Centers'}, xlabel='silhouette coefficient values', ylabel='cluster label'>"
      ]
     },
     "execution_count": 10,
     "metadata": {},
     "output_type": "execute_result"
    }
   ],
   "source": [
    "from yellowbrick.cluster import SilhouetteVisualizer\n",
    "# Crear el visualizador de coeficientes de silueta\n",
    "visualizer = SilhouetteVisualizer(kmeans, colors = [\"blue\", \"green\", \"red\",'orange'])\n",
    "visualizer.fit(X)\n",
    "visualizer.poof()"
   ]
  }
 ],
 "metadata": {
  "kernelspec": {
   "display_name": "Python 3 (ipykernel)",
   "language": "python",
   "name": "python3"
  },
  "language_info": {
   "codemirror_mode": {
    "name": "ipython",
    "version": 3
   },
   "file_extension": ".py",
   "mimetype": "text/x-python",
   "name": "python",
   "nbconvert_exporter": "python",
   "pygments_lexer": "ipython3",
   "version": "3.9.12"
  }
 },
 "nbformat": 4,
 "nbformat_minor": 5
}
